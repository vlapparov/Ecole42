{
 "cells": [
  {
   "cell_type": "code",
   "execution_count": 24,
   "metadata": {},
   "outputs": [
    {
     "name": "stdout",
     "output_type": "stream",
     "text": [
      "\n",
      "\n",
      "SUCCESS!!!\n",
      "\n"
     ]
    }
   ],
   "source": [
    "def my_var():\n",
    "    import path as p\n",
    "\n",
    "    fld = p.Path('./new_folder')\n",
    "    if not fld.isdir():\n",
    "        fld.mkdir()\n",
    "\n",
    "    fld = fld / 'f.txt'\n",
    "    if not fld.isfile():\n",
    "        fld.touch()\n",
    "\n",
    "    fld.write_text('\\nSUCCESS!!!\\n')\n",
    "\n",
    "    for i in fld.lines():\n",
    "        print(i)\n",
    "        \n",
    "if __name__ == '__main__':\n",
    "    my_var()"
   ]
  }
 ],
 "metadata": {
  "kernelspec": {
   "display_name": "Python 3",
   "language": "python",
   "name": "python3"
  },
  "language_info": {
   "codemirror_mode": {
    "name": "ipython",
    "version": 3
   },
   "file_extension": ".py",
   "mimetype": "text/x-python",
   "name": "python",
   "nbconvert_exporter": "python",
   "pygments_lexer": "ipython3",
   "version": "3.6.5"
  }
 },
 "nbformat": 4,
 "nbformat_minor": 2
}
