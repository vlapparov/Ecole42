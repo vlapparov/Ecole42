{
 "cells": [
  {
   "cell_type": "code",
   "execution_count": 34,
   "metadata": {},
   "outputs": [
    {
     "name": "stdout",
     "output_type": "stream",
     "text": [
      "My name? I’m nobody, an intern, I have no name.\n",
      "Mark\n",
      "This is the worst coffee you ever tasted.\n",
      "I’m just an intern, I can’t do that...\n"
     ]
    }
   ],
   "source": [
    "class Intern:\n",
    "    def __init__(self, a = \"My name? I’m nobody, an intern, I have no name.\"):\n",
    "        Intern.Name = a\n",
    "\n",
    "    def __str__(self):\n",
    "        return self.Name\n",
    "        \n",
    "    class Coffee:\n",
    "        def __str__(self):\n",
    "            return 'This is the worst coffee you ever tasted.'\n",
    "            \n",
    "    def work(self):\n",
    "        raise Exception(\"I’m just an intern, I can’t do that...\")\n",
    "    \n",
    "    def make_coffee(self):\n",
    "        return self.Coffee()\n",
    "    \n",
    "if __name__ == '__main__':\n",
    "    noName = Intern()\n",
    "    print(noName)\n",
    "    StudentMark = Intern(\"Mark\")\n",
    "    print(StudentMark)\n",
    "    print(StudentMark.make_coffee())\n",
    "    try:\n",
    "        print(StudentMark.work())\n",
    "    except Exception as e:\n",
    "        print(e)"
   ]
  }
 ],
 "metadata": {
  "kernelspec": {
   "display_name": "Python 3",
   "language": "python",
   "name": "python3"
  },
  "language_info": {
   "codemirror_mode": {
    "name": "ipython",
    "version": 3
   },
   "file_extension": ".py",
   "mimetype": "text/x-python",
   "name": "python",
   "nbconvert_exporter": "python",
   "pygments_lexer": "ipython3",
   "version": "3.6.5"
  }
 },
 "nbformat": 4,
 "nbformat_minor": 2
}
